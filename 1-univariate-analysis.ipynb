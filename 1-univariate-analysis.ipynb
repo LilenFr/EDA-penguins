{
 "cells": [
  {
   "attachments": {},
   "cell_type": "markdown",
   "metadata": {},
   "source": [
    "<img src='./imgs/pinguino1-export.png' width='300' align='right' style='filter: drop-shadow(10px 5px 10px #423f3b)'>\n",
    "\n",
    "# Análisis univariado\n",
    "El análisis univariado es un conjunto de técnicas estadísticas para estudiar los datos de una sola variable. Se utilizan para entender mejor el comportamiento de la variable y para identificar patrones, tendencias y relaciones entre los datos. El análisis univariado es un paso importante para entender mejor los datos antes de llevar a cabo un análisis más complejo que involucre más variables.\n",
    "***"
   ]
  }
 ],
 "metadata": {
  "kernelspec": {
   "display_name": "venv",
   "language": "python",
   "name": "python3"
  },
  "language_info": {
   "name": "python",
   "version": "3.8.10 (default, Jun 22 2022, 20:18:18) \n[GCC 9.4.0]"
  },
  "orig_nbformat": 4,
  "vscode": {
   "interpreter": {
    "hash": "dcc8c104225c1e68abf5ee15177995418691fb3413b2c6ee51944db7c6ae9589"
   }
  }
 },
 "nbformat": 4,
 "nbformat_minor": 2
}
